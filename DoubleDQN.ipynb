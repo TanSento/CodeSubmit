{
 "cells": [
  {
   "cell_type": "code",
   "execution_count": 1,
   "metadata": {},
   "outputs": [],
   "source": [
    "import pandas as pd\n",
    "import numpy as np\n",
    "import torch\n",
    "import torch.nn as nn\n",
    "import matplotlib.pyplot as plt\n",
    "from matplotlib.pyplot import figure\n",
    "import gym\n",
    "from gym import spaces\n",
    "from gym.spaces import Box, Discrete\n",
    "from collections import deque\n",
    "import itertools\n",
    "from scipy.special import softmax\n",
    "from sklearn.preprocessing import StandardScaler\n",
    "import warnings\n",
    "import os\n",
    "import pickle\n",
    "warnings.filterwarnings(\"ignore\")\n",
    "\n",
    "# create random number generator\n",
    "rng = np.random.default_rng()"
   ]
  },
  {
   "cell_type": "code",
   "execution_count": 2,
   "metadata": {},
   "outputs": [],
   "source": [
    "def get_data(name):\n",
    "  # returns a T x 3 list of stock prices\n",
    "  # each row is a different stock\n",
    "  # 0 = AAPL\n",
    "  # 1 = MSI\n",
    "  # 2 = SBUX\n",
    "  df = pd.read_csv(name)\n",
    "  return df.values    # get a numpy array\n",
    "                      # each row corresponds to one day"
   ]
  },
  {
   "cell_type": "markdown",
   "metadata": {},
   "source": [
    "# 1st Split"
   ]
  },
  {
   "cell_type": "code",
   "execution_count": 3,
   "metadata": {},
   "outputs": [
    {
     "data": {
      "text/plain": [
       "array([[ 67.8542  ,  60.3     ,  28.185   ],\n",
       "       [ 68.5614  ,  60.9     ,  28.07    ],\n",
       "       [ 66.8428  ,  60.83    ,  28.13    ],\n",
       "       ...,\n",
       "       [185.160004, 107.309998,  57.450001],\n",
       "       [186.050004, 107.839996,  57.669998],\n",
       "       [187.36    , 105.779999,  57.040001]])"
      ]
     },
     "execution_count": 3,
     "metadata": {},
     "output_type": "execute_result"
    }
   ],
   "source": [
    "train_1st = get_data(\"UltimateStocks.csv\")[:-440]\n",
    "train_1st"
   ]
  },
  {
   "cell_type": "code",
   "execution_count": 4,
   "metadata": {},
   "outputs": [
    {
     "data": {
      "text/plain": [
       "array([[190.039992, 108.75    ,  57.650002],\n",
       "       [188.589996, 108.370003,  57.27    ],\n",
       "       [188.149992, 107.379997,  57.130001],\n",
       "       ...,\n",
       "       [321.450012, 176.690002,  87.559998],\n",
       "       [325.209992, 178.929993,  86.150002],\n",
       "       [320.03    , 179.460007,  86.419998]])"
      ]
     },
     "execution_count": 4,
     "metadata": {},
     "output_type": "execute_result"
    }
   ],
   "source": [
    "test_1st = get_data(\"UltimateStocks.csv\")[-440:]\n",
    "test_1st"
   ]
  },
  {
   "cell_type": "markdown",
   "metadata": {},
   "source": [
    "# 2nd split"
   ]
  },
  {
   "cell_type": "code",
   "execution_count": 5,
   "metadata": {},
   "outputs": [
    {
     "data": {
      "text/plain": [
       "array([[ 67.8542  ,  60.3     ,  28.185   ],\n",
       "       [ 68.5614  ,  60.9     ,  28.07    ],\n",
       "       [ 66.8428  ,  60.83    ,  28.13    ],\n",
       "       ...,\n",
       "       [321.450012, 176.690002,  87.559998],\n",
       "       [325.209992, 178.929993,  86.150002],\n",
       "       [320.03    , 179.460007,  86.419998]])"
      ]
     },
     "execution_count": 5,
     "metadata": {},
     "output_type": "execute_result"
    }
   ],
   "source": [
    "train_2nd = get_data(\"train_2nd.csv\")\n",
    "train_2nd"
   ]
  },
  {
   "cell_type": "code",
   "execution_count": 6,
   "metadata": {},
   "outputs": [
    {
     "data": {
      "text/plain": [
       "array([[108.      ,  74.28    ,  55.62    ],\n",
       "       [107.93    ,  75.52    ,  55.47    ],\n",
       "       [108.18    ,  74.54    ,  55.47    ],\n",
       "       ...,\n",
       "       [185.160004, 107.309998,  57.450001],\n",
       "       [186.050004, 107.839996,  57.669998],\n",
       "       [187.36    , 105.779999,  57.040001]])"
      ]
     },
     "execution_count": 6,
     "metadata": {},
     "output_type": "execute_result"
    }
   ],
   "source": [
    "test_2nd = get_data(\"test_2nd.csv\")\n",
    "test_2nd"
   ]
  },
  {
   "cell_type": "markdown",
   "metadata": {},
   "source": [
    "# 3rd split"
   ]
  },
  {
   "cell_type": "code",
   "execution_count": 7,
   "metadata": {},
   "outputs": [
    {
     "data": {
      "text/plain": [
       "array([[ 67.8542  ,  60.3     ,  28.185   ],\n",
       "       [ 68.5614  ,  60.9     ,  28.07    ],\n",
       "       [ 66.8428  ,  60.83    ,  28.13    ],\n",
       "       ...,\n",
       "       [321.450012, 176.690002,  87.559998],\n",
       "       [325.209992, 178.929993,  86.150002],\n",
       "       [320.03    , 179.460007,  86.419998]])"
      ]
     },
     "execution_count": 7,
     "metadata": {},
     "output_type": "execute_result"
    }
   ],
   "source": [
    "train_3rd = get_data(\"train_3rd.csv\")\n",
    "train_3rd"
   ]
  },
  {
   "cell_type": "code",
   "execution_count": 8,
   "metadata": {},
   "outputs": [
    {
     "data": {
      "text/plain": [
       "array([[108.83 ,  63.94 ,  38.825],\n",
       "       [109.7  ,  63.55 ,  38.865],\n",
       "       [111.25 ,  63.7  ,  38.925],\n",
       "       ...,\n",
       "       [107.48 ,  73.5  ,  55.9  ],\n",
       "       [108.37 ,  73.93 ,  55.36 ],\n",
       "       [108.81 ,  74.28 ,  55.2  ]])"
      ]
     },
     "execution_count": 8,
     "metadata": {},
     "output_type": "execute_result"
    }
   ],
   "source": [
    "test_3rd = get_data(\"test_3rd.csv\")\n",
    "test_3rd"
   ]
  },
  {
   "cell_type": "markdown",
   "metadata": {},
   "source": [
    "# 4th split"
   ]
  },
  {
   "cell_type": "code",
   "execution_count": 9,
   "metadata": {},
   "outputs": [
    {
     "data": {
      "text/plain": [
       "array([[108.7     ,  63.42    ,  38.725   ],\n",
       "       [109.01    ,  64.14    ,  38.895   ],\n",
       "       [108.83    ,  63.94    ,  38.825   ],\n",
       "       ...,\n",
       "       [321.450012, 176.690002,  87.559998],\n",
       "       [325.209992, 178.929993,  86.150002],\n",
       "       [320.03    , 179.460007,  86.419998]])"
      ]
     },
     "execution_count": 9,
     "metadata": {},
     "output_type": "execute_result"
    }
   ],
   "source": [
    "train_4th = get_data(\"train_4th.csv\")\n",
    "train_4th"
   ]
  },
  {
   "cell_type": "code",
   "execution_count": 10,
   "metadata": {},
   "outputs": [
    {
     "data": {
      "text/plain": [
       "array([[ 67.8542,  60.3   ,  28.185 ],\n",
       "       [ 68.5614,  60.9   ,  28.07  ],\n",
       "       [ 66.8428,  60.83  ,  28.13  ],\n",
       "       ...,\n",
       "       [109.4   ,  64.68  ,  38.05  ],\n",
       "       [108.6   ,  66.76  ,  38.355 ],\n",
       "       [108.86  ,  64.46  ,  38.33  ]])"
      ]
     },
     "execution_count": 10,
     "metadata": {},
     "output_type": "execute_result"
    }
   ],
   "source": [
    "test_4th = get_data(\"test_4th.csv\")\n",
    "test_4th"
   ]
  },
  {
   "cell_type": "code",
   "execution_count": null,
   "metadata": {},
   "outputs": [],
   "source": []
  },
  {
   "cell_type": "code",
   "execution_count": 11,
   "metadata": {},
   "outputs": [],
   "source": [
    "def get_scaler(env):\n",
    "  # return scikit-learn scaler object to scale the states\n",
    "  # Note: you could also populate the replay buffer here\n",
    "  # To get parameter for the scaler, we must have some data\n",
    "  # --> play an episode randomly and store each of the states we encounter. No need for an agent\n",
    "  # For more accurate, run multiple episodes\n",
    "\n",
    "  states = []\n",
    "  for _ in range(env.n_step):\n",
    "    action = env.action_space.sample()\n",
    "    state, reward, terminated, truncated, info = env.step(action)\n",
    "    states.append(state)\n",
    "    if terminated:\n",
    "      break\n",
    "\n",
    "  scaler = StandardScaler()\n",
    "  scaler.fit(states)\n",
    "  return scaler\n"
   ]
  },
  {
   "cell_type": "code",
   "execution_count": 12,
   "metadata": {},
   "outputs": [],
   "source": [
    "class MultiStockEnv(gym.Env):\n",
    "\n",
    "  def __init__(self, data, initial_investment=20000):             # data = return of get_data()\n",
    "    # data                                                        # get_data() returns a numpy array\n",
    "    self.stock_price_history = data\n",
    "    self.n_step, self.n_stock = self.stock_price_history.shape    # (# day, 3)\n",
    "\n",
    "    # instance attributes\n",
    "    self.initial_investment = initial_investment\n",
    "    self.cur_step = None\n",
    "    self.stock_owned = None\n",
    "    self.stock_price = None\n",
    "    self.cash_in_hand = None\n",
    "\n",
    "    self.action_space = Discrete(343)\n",
    "    self.action_list = list(map(list, itertools.product([-1, -2/3, -1/3, 0, 1/3, 2/3, 1], repeat=self.n_stock)))\n",
    "                                               # -1 = sell all stocks\n",
    "                                               # 0 = hold\n",
    "                                               # 1 = buy with all of our money\n",
    "\n",
    "    # calculate size of state\n",
    "    self.state_dim = self.n_stock * 2 + 1      # If we have N stocks, the state contains 2N+1 dimensions\n",
    "\n",
    "    self.reset()\n",
    "\n",
    "\n",
    "  def reset(self):\n",
    "    self.cur_step = 0   # 1st day of stock prices\n",
    "    self.stock_owned = np.zeros(self.n_stock)\n",
    "    self.stock_price = self.stock_price_history[self.cur_step]  # Stock price of each stock on the current day\n",
    "    self.cash_in_hand = self.initial_investment                 # Not yet buy any stock, only initial investment\n",
    "    return self._get_obs()                                      # Return the first state vector, done by get_obs()\n",
    "                                                                # [0, 0, 0, 67.8542, 60.3, 28.185, 20000]\n",
    "\n",
    "\n",
    "\n",
    "  def step(self, action):\n",
    "    # assert action in self.action_space\n",
    "\n",
    "    # get current value before performing the action\n",
    "    prev_val = self._get_val()\n",
    "\n",
    "    # update price, i.e. go to the next day\n",
    "    self.cur_step += 1\n",
    "    self.stock_price = self.stock_price_history[self.cur_step]    # day -> next day, price -> price for next day\n",
    "                                                                  # self.stock_price_history = data = train_data -- a numpy array\n",
    "\n",
    "    # perform the trade\n",
    "    self._trade(action)\n",
    "\n",
    "    # get the new value after taking the action\n",
    "    cur_val = self._get_val()\n",
    "\n",
    "    # reward is the increase in porfolio value\n",
    "    reward = cur_val - prev_val \n",
    "    # done if we have run out of data\n",
    "    terminated = self.cur_step == self.n_step - 1             # True when we reach the end of the series\n",
    "                                                        # Realistically, stock markets never end, there is no termination\n",
    "                                                        # In here, our code ends when there is no more data\n",
    "    # store the current value of the portfolio here\n",
    "    info = {'cur_val': cur_val}\n",
    "\n",
    "\n",
    "    # conform to the Gym API\n",
    "    return self._get_obs(), reward, terminated, False, info\n",
    "\n",
    "\n",
    "\n",
    "  def _get_obs(self):\n",
    "    obs = np.empty(self.state_dim)\n",
    "    obs[:self.n_stock] = self.stock_owned                  # List of 3, stock owned\n",
    "    obs[self.n_stock:2*self.n_stock] = self.stock_price    # List of 3, stock price\n",
    "    obs[-1] = self.cash_in_hand                            # Cash in hands for last index\n",
    "    return obs\n",
    "    \n",
    "\n",
    "\n",
    "  def _get_val(self):\n",
    "    return self.stock_owned.dot(self.stock_price) + self.cash_in_hand    # Total money\n",
    "\n",
    "\n",
    "\n",
    "  def _trade(self, action):\n",
    "    action_vec = self.action_list[action]     # returns a list of size 3\n",
    "\n",
    "    # determine which stocks to buy or sell, we need this so that we can always buy before selling\n",
    "    sell_info = [] # stores index and portion of stocks we want to sell\n",
    "    buy_info = []  # stores index and portion of stocks we want to buy\n",
    "        \n",
    "    for i, a in enumerate(action_vec):   #[0.4, 0.3, -0.2]\n",
    "      if a < 0:\n",
    "        sell_info.append([i,a])      # gonna sell\n",
    "        \n",
    "      elif a > 0:\n",
    "        buy_info.append([i,a])       # gonna buy\n",
    "    # print('buy_info', buy_info)\n",
    "    # print('sell_info', sell_info)\n",
    "    \n",
    "\n",
    "    # Buy before sell so that the money got from selling is only available in the next time-step\n",
    "    if buy_info:\n",
    "      new_action = []           # to store the actions only, which do not necessarily sum to 1 \n",
    "      for (i,a) in buy_info: \n",
    "        new_action.append(a)\n",
    "      \n",
    "      if np.sum(new_action) > 1:        # Only softmax when their sum > 1\n",
    "        new_buy = softmax(new_action)   # softmax so they sum to 1\n",
    "      else:\n",
    "        new_buy = new_action            # Keep the old action\n",
    "\n",
    "      for i in range(len(buy_info)):\n",
    "        buy_info[i][1] = new_buy[i]     # overwriting buy_info with our new softmaxed actions, or not\n",
    "      # print(buy_info)\n",
    "    \n",
    "\n",
    "      total_cash_spent = 0                             # Need this so that we only subtract when we finish buying all stocks, to prevent overwriting self.cash_in_hand\n",
    "      for (i,a) in buy_info:                           # If we buy, we buy using a% of our cash_in_hand\n",
    "        cash_to_spend = self.cash_in_hand*a           \n",
    "        if cash_to_spend > self.stock_price[i]:          # Check if we can afford at least 1 stock\n",
    "          stock_bought = cash_to_spend // self.stock_price[i]\n",
    "          self.stock_owned[i] += stock_bought\n",
    "          cash_spent = stock_bought * self.stock_price[i]\n",
    "          total_cash_spent += cash_spent\n",
    "      total_cash_spent += total_cash_spent*0.0001   # 0.01% trade fee\n",
    "      self.cash_in_hand -= total_cash_spent\n",
    "\n",
    "\n",
    "    # Sell after buy\n",
    "    if sell_info:                                   # [] - empty list also treated as None\n",
    "      for (i,a) in sell_info:                       # If we sell, we sell a% of our stock_owned \n",
    "        stock_sold = -int(self.stock_owned[i]*a)    # minus because a is negative\n",
    "        # print(stock_sold)\n",
    "        self.stock_owned[i] -= stock_sold\n",
    "        cash_increase = self.stock_price[i] * stock_sold\n",
    "        self.cash_in_hand += cash_increase - cash_increase*0.0001  # 0.01% trade fee\n",
    "     "
   ]
  },
  {
   "cell_type": "code",
   "execution_count": 13,
   "metadata": {},
   "outputs": [],
   "source": [
    "# Q-network for approximating action-value function\n",
    "class QNetwork(nn.Module):\n",
    "    def __init__(self, input_size, hidden_sizes, output_size, learning_rate):   # output_size = # of actions\n",
    "        super().__init__()                                                      # input_size = size of state\n",
    "        # create network layers\n",
    "        layers = nn.ModuleList()            # example (3,32,32,2)\n",
    "        \n",
    "        # input layer\n",
    "        layers.append(nn.Linear(input_size, hidden_sizes[0]))\n",
    "        layers.append(nn.ReLU())\n",
    "\n",
    "\n",
    "\n",
    "        # hidden layers\n",
    "        for i in range(len(hidden_sizes)-1):\n",
    "            layers.append(nn.Linear(hidden_sizes[i], hidden_sizes[i+1]))\n",
    "            layers.append(nn.ReLU())\n",
    "        \n",
    "        # output layer\n",
    "        layers.append(nn.Linear(hidden_sizes[-1], output_size))\n",
    "    \n",
    "        # combine layers into feed-forward network\n",
    "        self.net = nn.Sequential(*layers)    # *layers unpacked,   for example [1,2,3,4]  ---> 1,2,3,4\n",
    "        # select loss function and optimizer\n",
    "        # note: original paper uses modified MSE loss and RMSprop\n",
    "        self.criterion = nn.MSELoss()\n",
    "        self.optimizer = torch.optim.Adam(self.net.parameters(), lr=learning_rate)\n",
    "    \n",
    "    def forward(self, x):\n",
    "        # return output of Q-network for the input x\n",
    "        return self.net(x)\n",
    "    \n",
    "    def update(self, inputs, targets):\n",
    "        # update network weights for a minibatch of inputs and targets:\n",
    "        self.optimizer.zero_grad()\n",
    "        outputs = self.net(inputs)\n",
    "        loss = self.criterion(outputs, targets)\n",
    "        loss.backward()\n",
    "        self.optimizer.step()\n",
    "    \n",
    "    def copy_from(self, qnetwork):\n",
    "        # copy weights from another Q-network\n",
    "        self.net.load_state_dict(qnetwork.net.state_dict())"
   ]
  },
  {
   "cell_type": "markdown",
   "metadata": {},
   "source": [
    "# Double DQN"
   ]
  },
  {
   "cell_type": "code",
   "execution_count": 14,
   "metadata": {},
   "outputs": [],
   "source": [
    "# Double Deep Q-network (DDQN)\n",
    "class AgentDDQN():\n",
    "    def __init__(self, env, gamma, scaler,\n",
    "                 hidden_sizes=(32, 32),\n",
    "                 learning_rate=0.001,\n",
    "                 epsilon=0.1,\n",
    "                 replay_size=10000,\n",
    "                 minibatch_size=32,\n",
    "                 target_update=20):\n",
    "                         \n",
    "        self.state_dims = env.state_dim\n",
    "        \n",
    "        # check if the action space has correct type\n",
    "        assert isinstance(env.action_space, spaces.Discrete), 'Action space must be discrete'\n",
    "        self.num_actions = env.action_space.n\n",
    "        \n",
    "        # create Q-networks for action-value function\n",
    "        self.qnet = QNetwork(self.state_dims, hidden_sizes, self.num_actions, learning_rate)\n",
    "        self.target_qnet = QNetwork(self.state_dims, hidden_sizes, self.num_actions, learning_rate)\n",
    "        \n",
    "        # copy weights from Q-network to target Q-network\n",
    "        self.target_qnet.copy_from(self.qnet)\n",
    "        \n",
    "        # initialise replay buffer\n",
    "        self.replay = deque(maxlen=replay_size)\n",
    "        \n",
    "        self.env = env\n",
    "        self.gamma = gamma\n",
    "        self.epsilon = epsilon\n",
    "        self.minibatch_size = minibatch_size\n",
    "        self.target_update = target_update\n",
    "        self.target_update_idx = 0\n",
    "        self.scaler = scaler\n",
    "\n",
    "        \n",
    "    def behaviour(self, state):\n",
    "        # exploratory behaviour policy\n",
    "        if rng.uniform() >= self.epsilon:\n",
    "            # convert state to torch format\n",
    "            if not torch.is_tensor(state):\n",
    "                state = torch.tensor(state, dtype=torch.float)\n",
    "            \n",
    "            # exploitation with probability 1-epsilon; break ties randomly\n",
    "            q = self.qnet(state).detach()\n",
    "            j = rng.permutation(self.num_actions)\n",
    "            return j[q[j].argmax().item()]\n",
    "        else:\n",
    "            # exploration with probability epsilon\n",
    "            return self.env.action_space.sample()        \n",
    "        \n",
    "    def policy(self, state):\n",
    "        # convert state to torch format\n",
    "        if not torch.is_tensor(state):\n",
    "            state = torch.tensor(state, dtype=torch.float)\n",
    "        \n",
    "        # greedy policy\n",
    "        q = self.qnet(state).detach()\n",
    "        return q.argmax().item()\n",
    "        \n",
    "    def update(self):\n",
    "        # update Q-network if there is enough experience\n",
    "        if len(self.replay) >= self.minibatch_size:\n",
    "            # select mini-batch of experiences uniformly at random without replacement\n",
    "            minibatch = rng.choice(self.replay, size=self.minibatch_size, replace=False)\n",
    "            \n",
    "            # calculate inputs and targets for the transitions in the mini-batch\n",
    "            inputs = torch.zeros((self.minibatch_size, self.state_dims))\n",
    "            targets = torch.zeros((self.minibatch_size, self.num_actions))\n",
    "            \n",
    "            for n, (state, action, reward, next_state, terminated) in enumerate(minibatch):\n",
    "                # inputs are states\n",
    "                inputs[n, :] = state\n",
    "                \n",
    "                # targets are TD targets\n",
    "                targets[n, :] = self.target_qnet(state).detach()\n",
    "                if terminated:\n",
    "                    targets[n, action] = reward\n",
    "                else:\n",
    "                    # double learning\n",
    "                    # note: we don't break ties randomly (ties are unlikely when weights are initialised randomly)\n",
    "                    next_action = self.qnet(next_state).detach().argmax()        # Take the best action from the online q\n",
    "                    next_q = self.target_qnet(next_state).detach()               # Get the next target q\n",
    "                    targets[n, action] = reward + self.gamma*next_q[next_action] # put the action in the target q to evaluate it  - Check with Tomasz\n",
    "            \n",
    "            # train Q-network on the mini-batch\n",
    "            self.qnet.update(inputs, targets)\n",
    "        \n",
    "        # periodically copy weights from Q-network to target Q-network\n",
    "        self.target_update_idx += 1\n",
    "        if self.target_update_idx % self.target_update == 0:\n",
    "            self.target_qnet.copy_from(self.qnet)\n",
    "            \n",
    "    def train(self, max_episodes, stop_criterion, criterion_episodes):\n",
    "        # train the agent for a number of episodes\n",
    "        rewards = []\n",
    "        num_steps = 0\n",
    "        for episode in range(max_episodes):\n",
    "            state = env.reset()\n",
    "            state = self.scaler.transform([state]).reshape(-1,)\n",
    "\n",
    "            # convert state to torch format\n",
    "            state = torch.tensor(state, dtype=torch.float)\n",
    "            terminated = False\n",
    "            truncated = False\n",
    "            rewards.append(0)\n",
    "            while not (terminated or truncated):\n",
    "                # select action by following behaviour policy\n",
    "                action = self.behaviour(state)\n",
    "\n",
    "                # send the action to the environment\n",
    "                next_state, reward, terminated, truncated, info = env.step(action)\n",
    "                next_state = self.scaler.transform([next_state]).reshape(-1,)\n",
    "\n",
    "                # convert next state to torch format and add experience to replay buffer                \n",
    "                next_state = torch.tensor(next_state, dtype=torch.float)\n",
    "                self.replay.append((state, action, reward, next_state, terminated))                \n",
    "                \n",
    "                # update Q-network\n",
    "                self.update()\n",
    "                \n",
    "                state = next_state\n",
    "                rewards[-1] += reward\n",
    "                num_steps += 1\n",
    "\n",
    "            val = info['cur_val']    \n",
    "            print(f'\\rEpisode {episode+1} done: steps = {num_steps}, rewards = {rewards[episode]}, portfolio = {val}     ', end='')\n",
    "            \n",
    "            if episode >= criterion_episodes-1 and stop_criterion(rewards[-criterion_episodes:]):\n",
    "                print(f'\\nStopping criterion satisfied after {episode} episodes')\n",
    "                break\n",
    "            \n",
    "        # plot rewards received during training\n",
    "        plt.figure(dpi=100)\n",
    "        plt.plot(range(1, len(rewards)+1), rewards, label=f'Rewards')\n",
    "\n",
    "        plt.xlabel('Episodes')\n",
    "        plt.ylabel('Rewards per episode')\n",
    "        plt.legend(loc='lower right')\n",
    "        plt.grid()\n",
    "        plt.show()    \n",
    "    \n",
    "    def save(self, path):\n",
    "        # save network weights to a file\n",
    "        torch.save(self.qnet.state_dict(), path)\n",
    "        \n",
    "    def load(self, path):\n",
    "        # load network weights from a file\n",
    "        self.qnet.load_state_dict(torch.load(path))\n",
    "        self.target_qnet.copy_from(self.qnet)"
   ]
  },
  {
   "cell_type": "code",
   "execution_count": null,
   "metadata": {},
   "outputs": [],
   "source": []
  },
  {
   "cell_type": "markdown",
   "metadata": {},
   "source": [
    "___"
   ]
  },
  {
   "cell_type": "markdown",
   "metadata": {},
   "source": [
    "# 1st Split"
   ]
  },
  {
   "cell_type": "markdown",
   "metadata": {},
   "source": [
    "**Do not need to re-train the agent, we have saved all the agents in their corresponding folders, Just need to load the agent (with correct scaler) to observe the test set**"
   ]
  },
  {
   "cell_type": "code",
   "execution_count": 15,
   "metadata": {},
   "outputs": [
    {
     "name": "stdout",
     "output_type": "stream",
     "text": [
      "Episode 100 done: steps = 132100, rewards = 23385.238021940517, portfolio = 43385.23802194052     "
     ]
    },
    {
     "data": {
      "image/png": "[encoded data removed]",
      "text/plain": [
       "<Figure size 600x400 with 1 Axes>"
      ]
     },
     "metadata": {
      "needs_background": "light"
     },
     "output_type": "display_data"
    },
    {
     "name": "stdout",
     "output_type": "stream",
     "text": [
      "Reward: 79330.81595024001\n"
     ]
    }
   ],
   "source": [
    "data = train_1st\n",
    "\n",
    "env = MultiStockEnv(data)\n",
    "gamma = 0.99\n",
    "hidden_sizes = (128, 128)\n",
    "learning_rate = 0.001\n",
    "epsilon = 0.2\n",
    "replay_size = 10000\n",
    "minibatch_size = 64\n",
    "target_update = 20\n",
    "max_episodes = 100\n",
    "# max_steps = 1000\n",
    "criterion_episodes = 5\n",
    "\n",
    "scaler = get_scaler(env)\n",
    "\n",
    "agent = AgentDDQN(env,\n",
    "                 gamma=gamma,\n",
    "                 hidden_sizes=hidden_sizes,\n",
    "                 learning_rate=learning_rate,\n",
    "                 epsilon=epsilon,\n",
    "                 replay_size=replay_size,\n",
    "                 minibatch_size=minibatch_size,\n",
    "                 target_update=target_update,\n",
    "                 scaler= scaler)\n",
    "\n",
    "\n",
    "agent.train(max_episodes, lambda x : min(x) >= 100000, criterion_episodes)    # at most $100,000\n",
    "                                                                              \n",
    "\n",
    "# visualise one episode\n",
    "state = env.reset()\n",
    "state = scaler.transform([state]).reshape(-1,)\n",
    "\n",
    "terminated = False\n",
    "truncated = False\n",
    "steps = 0\n",
    "total_reward = 0\n",
    "while not (terminated or truncated):\n",
    "    # take action based on policy    \n",
    "    action = agent.policy(state)\n",
    "    \n",
    "    # environment receives the action and returns:\n",
    "    # next observation, reward, terminated, truncated, and additional information (if applicable)\n",
    "    state, reward, terminated, truncated, info = env.step(action)\n",
    "    state = scaler.transform([state]).reshape(-1,)\n",
    "    total_reward += reward\n",
    "    steps += 1\n",
    "    \n",
    "print(f'Reward: {total_reward}')\n"
   ]
  },
  {
   "cell_type": "code",
   "execution_count": 16,
   "metadata": {},
   "outputs": [],
   "source": [
    "folder = 'DoubleDQN_128x128'\n",
    "\n",
    "if not os.path.exists(folder):\n",
    "    os.makedirs(folder)\n",
    "agent.save(f'{folder}/tradingbotDoubleDQN.128x128_1st.pt')\n",
    "\n",
    "with open(f'{folder}/DoubleDQN_128x128_scaler_1st.pkl', 'wb') as f:\n",
    "    pickle.dump(scaler, f)"
   ]
  },
  {
   "cell_type": "markdown",
   "metadata": {},
   "source": [
    "**Test The Agent**"
   ]
  },
  {
   "cell_type": "code",
   "execution_count": 15,
   "metadata": {},
   "outputs": [
    {
     "name": "stdout",
     "output_type": "stream",
     "text": [
      "Reward: 6458.288199922103, info: 26458.288199922103\n"
     ]
    }
   ],
   "source": [
    "data = test_1st\n",
    "\n",
    "env = MultiStockEnv(data)\n",
    "gamma = 0.99\n",
    "hidden_sizes = (128, 128)\n",
    "learning_rate = 0.001\n",
    "epsilon = 0.2\n",
    "replay_size = 10000\n",
    "minibatch_size = 64\n",
    "target_update = 20\n",
    "max_episodes = 100\n",
    "# max_steps = 1000\n",
    "criterion_episodes = 5\n",
    "\n",
    "folder = 'DoubleDQN_128x128'\n",
    "with open(f'{folder}/DoubleDQN_128x128_scaler_1st.pkl', 'rb') as f:\n",
    "    test_scaler = pickle.load(f) \n",
    "\n",
    "\n",
    "agent = AgentDDQN(env,\n",
    "                 gamma=gamma,\n",
    "                 hidden_sizes=hidden_sizes,\n",
    "                 learning_rate=learning_rate,\n",
    "                 epsilon=epsilon,\n",
    "                 replay_size=replay_size,\n",
    "                 minibatch_size=minibatch_size,\n",
    "                 target_update=target_update,\n",
    "                 scaler= test_scaler)\n",
    "\n",
    "\n",
    "\n",
    "agent.load(f'{folder}/tradingbotDoubleDQN.128x128_1st.pt')\n",
    "\n",
    "\n",
    "\n",
    "# visualise one episode\n",
    "state = env.reset()\n",
    "state = test_scaler.transform([state]).reshape(-1,)\n",
    "\n",
    "terminated = False\n",
    "truncated = False\n",
    "steps = 0\n",
    "total_reward = 0\n",
    "while not (terminated or truncated):\n",
    "    # take action based on policy    \n",
    "    action = agent.policy(state)\n",
    "    \n",
    "    # environment receives the action and returns:\n",
    "    # next observation, reward, terminated, truncated, and additional information (if applicable)\n",
    "    state, reward, terminated, truncated, info = env.step(action)\n",
    "    state = test_scaler.transform([state]).reshape(-1,)\n",
    "    total_reward += reward\n",
    "    steps += 1\n",
    "\n",
    "val = info['cur_val']\n",
    "print(f'Reward: {total_reward}, info: {val}')"
   ]
  },
  {
   "cell_type": "code",
   "execution_count": null,
   "metadata": {},
   "outputs": [],
   "source": []
  },
  {
   "cell_type": "markdown",
   "metadata": {},
   "source": [
    "___"
   ]
  },
  {
   "cell_type": "markdown",
   "metadata": {},
   "source": [
    "# 2nd Split"
   ]
  },
  {
   "cell_type": "code",
   "execution_count": 15,
   "metadata": {},
   "outputs": [
    {
     "name": "stdout",
     "output_type": "stream",
     "text": [
      "Episode 100 done: steps = 132100, rewards = 39689.03720246482, portfolio = 59689.03720246482      "
     ]
    },
    {
     "data": {
      "image/png": "[encoded data removed]",
      "text/plain": [
       "<Figure size 600x400 with 1 Axes>"
      ]
     },
     "metadata": {
      "needs_background": "light"
     },
     "output_type": "display_data"
    },
    {
     "name": "stdout",
     "output_type": "stream",
     "text": [
      "Reward: 58460.01332529666\n"
     ]
    }
   ],
   "source": [
    "data = train_2nd\n",
    "\n",
    "env = MultiStockEnv(data)\n",
    "gamma = 0.99\n",
    "hidden_sizes = (128, 128)\n",
    "learning_rate = 0.001\n",
    "epsilon = 0.2\n",
    "replay_size = 10000\n",
    "minibatch_size = 64\n",
    "target_update = 20\n",
    "max_episodes = 100\n",
    "# max_steps = 1000\n",
    "criterion_episodes = 5\n",
    "\n",
    "scaler = get_scaler(env)\n",
    "\n",
    "agent = AgentDDQN(env,\n",
    "                 gamma=gamma,\n",
    "                 hidden_sizes=hidden_sizes,\n",
    "                 learning_rate=learning_rate,\n",
    "                 epsilon=epsilon,\n",
    "                 replay_size=replay_size,\n",
    "                 minibatch_size=minibatch_size,\n",
    "                 target_update=target_update,\n",
    "                 scaler= scaler)\n",
    "\n",
    "\n",
    "agent.train(max_episodes, lambda x : min(x) >= 100000, criterion_episodes)    # at most $100,000\n",
    "                                                                             \n",
    "\n",
    "# visualise one episode\n",
    "state = env.reset()\n",
    "state = scaler.transform([state]).reshape(-1,)\n",
    "\n",
    "terminated = False\n",
    "truncated = False\n",
    "steps = 0\n",
    "total_reward = 0\n",
    "while not (terminated or truncated):\n",
    "    # take action based on policy    \n",
    "    action = agent.policy(state)\n",
    "    \n",
    "    # environment receives the action and returns:\n",
    "    # next observation, reward, terminated, truncated, and additional information (if applicable)\n",
    "    state, reward, terminated, truncated, info = env.step(action)\n",
    "    state = scaler.transform([state]).reshape(-1,)\n",
    "    total_reward += reward\n",
    "    steps += 1\n",
    "    \n",
    "print(f'Reward: {total_reward}')\n"
   ]
  },
  {
   "cell_type": "code",
   "execution_count": 16,
   "metadata": {},
   "outputs": [],
   "source": [
    "folder = 'DoubleDQN_128x128'\n",
    "\n",
    "if not os.path.exists(folder):\n",
    "    os.makedirs(folder)\n",
    "agent.save(f'{folder}/tradingbotDoubleDQN.128x128_2nd.pt')\n",
    "\n",
    "with open(f'{folder}/DoubleDQN_128x128_scaler_2nd.pkl', 'wb') as f:\n",
    "    pickle.dump(scaler, f)"
   ]
  },
  {
   "cell_type": "markdown",
   "metadata": {},
   "source": [
    "**Test The Agent**"
   ]
  },
  {
   "cell_type": "code",
   "execution_count": 18,
   "metadata": {},
   "outputs": [
    {
     "name": "stdout",
     "output_type": "stream",
     "text": [
      "Reward: 12846.439067999992, info: 32846.43906799999\n"
     ]
    }
   ],
   "source": [
    "data = test_2nd\n",
    "\n",
    "env = MultiStockEnv(data)\n",
    "gamma = 0.99\n",
    "hidden_sizes = (128, 128)\n",
    "learning_rate = 0.001\n",
    "epsilon = 0.2\n",
    "replay_size = 10000\n",
    "minibatch_size = 64\n",
    "target_update = 20\n",
    "max_episodes = 100\n",
    "# max_steps = 1000\n",
    "criterion_episodes = 5\n",
    "\n",
    "folder = 'DoubleDQN_128x128'\n",
    "with open(f'{folder}/DoubleDQN_128x128_scaler_2nd.pkl', 'rb') as f:\n",
    "    test_scaler = pickle.load(f) \n",
    "\n",
    "\n",
    "agent = AgentDDQN(env,\n",
    "                 gamma=gamma,\n",
    "                 hidden_sizes=hidden_sizes,\n",
    "                 learning_rate=learning_rate,\n",
    "                 epsilon=epsilon,\n",
    "                 replay_size=replay_size,\n",
    "                 minibatch_size=minibatch_size,\n",
    "                 target_update=target_update,\n",
    "                 scaler= test_scaler)\n",
    "\n",
    "\n",
    "\n",
    "agent.load(f'{folder}/tradingbotDoubleDQN.128x128_2nd.pt')\n",
    "\n",
    "\n",
    "\n",
    "# visualise one episode\n",
    "state = env.reset()\n",
    "state = test_scaler.transform([state]).reshape(-1,)\n",
    "\n",
    "terminated = False\n",
    "truncated = False\n",
    "steps = 0\n",
    "total_reward = 0\n",
    "while not (terminated or truncated):\n",
    "    # take action based on policy    \n",
    "    action = agent.policy(state)\n",
    "    \n",
    "    # environment receives the action and returns:\n",
    "    # next observation, reward, terminated, truncated, and additional information (if applicable)\n",
    "    state, reward, terminated, truncated, info = env.step(action)\n",
    "    state = test_scaler.transform([state]).reshape(-1,)\n",
    "    total_reward += reward\n",
    "    steps += 1\n",
    "\n",
    "val = info['cur_val']\n",
    "print(f'Reward: {total_reward}, info: {val}')"
   ]
  },
  {
   "cell_type": "code",
   "execution_count": null,
   "metadata": {},
   "outputs": [],
   "source": []
  },
  {
   "cell_type": "markdown",
   "metadata": {},
   "source": [
    "___"
   ]
  },
  {
   "cell_type": "markdown",
   "metadata": {},
   "source": [
    "# 3rd Split"
   ]
  },
  {
   "cell_type": "code",
   "execution_count": 15,
   "metadata": {},
   "outputs": [
    {
     "name": "stdout",
     "output_type": "stream",
     "text": [
      "Episode 85 done: steps = 112285, rewards = 102698.43009924777, portfolio = 122698.43009924777     \n",
      "Stopping criterion satisfied after 84 episodes\n"
     ]
    },
    {
     "data": {
      "image/png": "[encoded data removed]",
      "text/plain": [
       "<Figure size 600x400 with 1 Axes>"
      ]
     },
     "metadata": {
      "needs_background": "light"
     },
     "output_type": "display_data"
    },
    {
     "name": "stdout",
     "output_type": "stream",
     "text": [
      "Reward: 88144.5828907858\n"
     ]
    }
   ],
   "source": [
    "data = train_3rd\n",
    "\n",
    "env = MultiStockEnv(data)\n",
    "gamma = 0.99\n",
    "hidden_sizes = (128, 128)\n",
    "learning_rate = 0.001\n",
    "epsilon = 0.2\n",
    "replay_size = 10000\n",
    "minibatch_size = 64\n",
    "target_update = 20\n",
    "max_episodes = 100\n",
    "# max_steps = 1000\n",
    "criterion_episodes = 50\n",
    "\n",
    "scaler = get_scaler(env)\n",
    "\n",
    "agent = AgentDDQN(env,\n",
    "                 gamma=gamma,\n",
    "                 hidden_sizes=hidden_sizes,\n",
    "                 learning_rate=learning_rate,\n",
    "                 epsilon=epsilon,\n",
    "                 replay_size=replay_size,\n",
    "                 minibatch_size=minibatch_size,\n",
    "                 target_update=target_update,\n",
    "                 scaler= scaler)\n",
    "\n",
    "\n",
    "agent.train(max_episodes, lambda x : max(x) >= 85000, criterion_episodes)    \n",
    "\n",
    "\n",
    "# visualise one episode\n",
    "state = env.reset()\n",
    "state = scaler.transform([state]).reshape(-1,)\n",
    "\n",
    "terminated = False\n",
    "truncated = False\n",
    "steps = 0\n",
    "total_reward = 0\n",
    "while not (terminated or truncated):\n",
    "    # take action based on policy    \n",
    "    action = agent.policy(state)\n",
    "    \n",
    "    # environment receives the action and returns:\n",
    "    # next observation, reward, terminated, truncated, and additional information (if applicable)\n",
    "    state, reward, terminated, truncated, info = env.step(action)\n",
    "    state = scaler.transform([state]).reshape(-1,)\n",
    "    total_reward += reward\n",
    "    steps += 1\n",
    "    \n",
    "print(f'Reward: {total_reward}')\n"
   ]
  },
  {
   "cell_type": "code",
   "execution_count": 16,
   "metadata": {},
   "outputs": [],
   "source": [
    "folder = 'DoubleDQN_128x128'\n",
    "\n",
    "if not os.path.exists(folder):\n",
    "    os.makedirs(folder)\n",
    "agent.save(f'{folder}/tradingbotDoubleDQN.128x128_3rd_another.pt')\n",
    "\n",
    "with open(f'{folder}/DoubleDQN_128x128_scaler_3rd_another.pkl', 'wb') as f:\n",
    "    pickle.dump(scaler, f)"
   ]
  },
  {
   "cell_type": "markdown",
   "metadata": {},
   "source": [
    "**Test The Agent**"
   ]
  },
  {
   "cell_type": "code",
   "execution_count": 19,
   "metadata": {},
   "outputs": [
    {
     "name": "stdout",
     "output_type": "stream",
     "text": [
      "Reward: 7649.9397659999995, info: 27649.939766\n"
     ]
    }
   ],
   "source": [
    "data = test_3rd\n",
    "\n",
    "env = MultiStockEnv(data)\n",
    "gamma = 0.99\n",
    "hidden_sizes = (128, 128)\n",
    "learning_rate = 0.001\n",
    "epsilon = 0.2\n",
    "replay_size = 10000\n",
    "minibatch_size = 64\n",
    "target_update = 20\n",
    "max_episodes = 100\n",
    "# max_steps = 1000\n",
    "criterion_episodes = 5\n",
    "\n",
    "folder = 'DoubleDQN_128x128'\n",
    "with open(f'{folder}/DoubleDQN_128x128_scaler_3rd_another.pkl', 'rb') as f:\n",
    "    test_scaler = pickle.load(f) \n",
    "\n",
    "\n",
    "agent = AgentDDQN(env,\n",
    "                 gamma=gamma,\n",
    "                 hidden_sizes=hidden_sizes,\n",
    "                 learning_rate=learning_rate,\n",
    "                 epsilon=epsilon,\n",
    "                 replay_size=replay_size,\n",
    "                 minibatch_size=minibatch_size,\n",
    "                 target_update=target_update,\n",
    "                 scaler= test_scaler)\n",
    "\n",
    "\n",
    "\n",
    "agent.load(f'{folder}/tradingbotDoubleDQN.128x128_3rd_another.pt')\n",
    "\n",
    "\n",
    "\n",
    "# visualise one episode\n",
    "state = env.reset()\n",
    "state = test_scaler.transform([state]).reshape(-1,)\n",
    "\n",
    "terminated = False\n",
    "truncated = False\n",
    "steps = 0\n",
    "total_reward = 0\n",
    "while not (terminated or truncated):\n",
    "    # take action based on policy    \n",
    "    action = agent.policy(state)\n",
    "    \n",
    "    # environment receives the action and returns:\n",
    "    # next observation, reward, terminated, truncated, and additional information (if applicable)\n",
    "    state, reward, terminated, truncated, info = env.step(action)\n",
    "    state = test_scaler.transform([state]).reshape(-1,)\n",
    "    total_reward += reward\n",
    "    steps += 1\n",
    "\n",
    "val = info['cur_val']\n",
    "print(f'Reward: {total_reward}, info: {val}')"
   ]
  },
  {
   "cell_type": "code",
   "execution_count": null,
   "metadata": {},
   "outputs": [],
   "source": []
  },
  {
   "cell_type": "markdown",
   "metadata": {},
   "source": [
    "___"
   ]
  },
  {
   "cell_type": "markdown",
   "metadata": {},
   "source": [
    "# 4th Split"
   ]
  },
  {
   "cell_type": "code",
   "execution_count": 18,
   "metadata": {},
   "outputs": [
    {
     "name": "stdout",
     "output_type": "stream",
     "text": [
      "Episode 100 done: steps = 132100, rewards = 2943.1504528080186, portfolio = 22943.15045280802     "
     ]
    },
    {
     "data": {
      "image/png": "[encoded data removed]",
      "text/plain": [
       "<Figure size 600x400 with 1 Axes>"
      ]
     },
     "metadata": {
      "needs_background": "light"
     },
     "output_type": "display_data"
    },
    {
     "name": "stdout",
     "output_type": "stream",
     "text": [
      "Reward: 5131.090587945604\n"
     ]
    }
   ],
   "source": [
    "data = train_4th\n",
    "\n",
    "env = MultiStockEnv(data)\n",
    "gamma = 0.99\n",
    "hidden_sizes = (128, 128)\n",
    "learning_rate = 0.001\n",
    "epsilon = 0.2\n",
    "replay_size = 10000\n",
    "minibatch_size = 64\n",
    "target_update = 20\n",
    "max_episodes = 100\n",
    "# max_steps = 1000\n",
    "criterion_episodes = 5\n",
    "\n",
    "scaler = get_scaler(env)\n",
    "\n",
    "agent = AgentDDQN(env,\n",
    "                 gamma=gamma,\n",
    "                 hidden_sizes=hidden_sizes,\n",
    "                 learning_rate=learning_rate,\n",
    "                 epsilon=epsilon,\n",
    "                 replay_size=replay_size,\n",
    "                 minibatch_size=minibatch_size,\n",
    "                 target_update=target_update,\n",
    "                 scaler= scaler)\n",
    "\n",
    "\n",
    "agent.train(max_episodes, lambda x : max(x) >= 100000, criterion_episodes)    # at most $100,000\n",
    "                                                                             \n",
    "\n",
    "\n",
    "# visualise one episode\n",
    "state = env.reset()\n",
    "state = scaler.transform([state]).reshape(-1,)\n",
    "\n",
    "terminated = False\n",
    "truncated = False\n",
    "steps = 0\n",
    "total_reward = 0\n",
    "while not (terminated or truncated):\n",
    "    # take action based on policy    \n",
    "    action = agent.policy(state)\n",
    "    \n",
    "    # environment receives the action and returns:\n",
    "    # next observation, reward, terminated, truncated, and additional information (if applicable)\n",
    "    state, reward, terminated, truncated, info = env.step(action)\n",
    "    state = scaler.transform([state]).reshape(-1,)\n",
    "    total_reward += reward\n",
    "    steps += 1\n",
    "    \n",
    "print(f'Reward: {total_reward}')\n"
   ]
  },
  {
   "cell_type": "code",
   "execution_count": 19,
   "metadata": {},
   "outputs": [],
   "source": [
    "folder = 'DoubleDQN_128x128'\n",
    "\n",
    "if not os.path.exists(folder):\n",
    "    os.makedirs(folder)\n",
    "agent.save(f'{folder}/tradingbotDoubleDQN.128x128_4th.pt')\n",
    "\n",
    "with open(f'{folder}/DoubleDQN_128x128_scaler_4th.pkl', 'wb') as f:\n",
    "    pickle.dump(scaler, f)"
   ]
  },
  {
   "cell_type": "markdown",
   "metadata": {},
   "source": [
    "**Test The Agent**"
   ]
  },
  {
   "cell_type": "code",
   "execution_count": 18,
   "metadata": {},
   "outputs": [
    {
     "name": "stdout",
     "output_type": "stream",
     "text": [
      "Reward: 1071.2930119999946, info: 21071.293011999995\n"
     ]
    }
   ],
   "source": [
    "data = test_4th\n",
    "\n",
    "env = MultiStockEnv(data)\n",
    "gamma = 0.99\n",
    "hidden_sizes = (128, 128)\n",
    "learning_rate = 0.001\n",
    "epsilon = 0.2\n",
    "replay_size = 10000\n",
    "minibatch_size = 64\n",
    "target_update = 20\n",
    "max_episodes = 100\n",
    "# max_steps = 1000\n",
    "criterion_episodes = 5\n",
    "\n",
    "folder = 'DoubleDQN_128x128'\n",
    "with open(f'{folder}/DoubleDQN_128x128_scaler_4th.pkl', 'rb') as f:\n",
    "    test_scaler = pickle.load(f) \n",
    "\n",
    "\n",
    "agent = AgentDDQN(env,\n",
    "                 gamma=gamma,\n",
    "                 hidden_sizes=hidden_sizes,\n",
    "                 learning_rate=learning_rate,\n",
    "                 epsilon=epsilon,\n",
    "                 replay_size=replay_size,\n",
    "                 minibatch_size=minibatch_size,\n",
    "                 target_update=target_update,\n",
    "                 scaler= test_scaler)\n",
    "\n",
    "\n",
    "\n",
    "agent.load(f'{folder}/tradingbotDoubleDQN.128x128_4th.pt')\n",
    "\n",
    "\n",
    "\n",
    "# visualise one episode\n",
    "state = env.reset()\n",
    "state = test_scaler.transform([state]).reshape(-1,)\n",
    "\n",
    "terminated = False\n",
    "truncated = False\n",
    "steps = 0\n",
    "total_reward = 0\n",
    "while not (terminated or truncated):\n",
    "    # take action based on policy    \n",
    "    action = agent.policy(state)\n",
    "    \n",
    "    # environment receives the action and returns:\n",
    "    # next observation, reward, terminated, truncated, and additional information (if applicable)\n",
    "    state, reward, terminated, truncated, info = env.step(action)\n",
    "    state = test_scaler.transform([state]).reshape(-1,)\n",
    "    total_reward += reward\n",
    "    steps += 1\n",
    "\n",
    "val = info['cur_val']\n",
    "print(f'Reward: {total_reward}, info: {val}')"
   ]
  },
  {
   "cell_type": "code",
   "execution_count": null,
   "metadata": {},
   "outputs": [],
   "source": []
  },
  {
   "cell_type": "code",
   "execution_count": null,
   "metadata": {},
   "outputs": [],
   "source": []
  },
  {
   "cell_type": "code",
   "execution_count": null,
   "metadata": {},
   "outputs": [],
   "source": []
  }
 ],
 "metadata": {
  "kernelspec": {
   "display_name": "Python 3.10.5 ('rl')",
   "language": "python",
   "name": "python3"
  },
  "language_info": {
   "codemirror_mode": {
    "name": "ipython",
    "version": 3
   },
   "file_extension": ".py",
   "mimetype": "text/x-python",
   "name": "python",
   "nbconvert_exporter": "python",
   "pygments_lexer": "ipython3",
   "version": "3.10.5"
  },
  "orig_nbformat": 4,
  "vscode": {
   "interpreter": {
    "hash": "317be68a268fe63ad1beef9ed2e8071406c5ed3a5a04586782a42fc5b3ff2007"
   }
  }
 },
 "nbformat": 4,
 "nbformat_minor": 2
}
