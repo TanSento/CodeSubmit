{
 "cells": [
  {
   "cell_type": "code",
   "execution_count": 1,
   "metadata": {},
   "outputs": [],
   "source": [
    "import pandas as pd\n",
    "import numpy as np\n",
    "import torch\n",
    "import torch.nn as nn\n",
    "import matplotlib.pyplot as plt\n",
    "from matplotlib.pyplot import figure\n",
    "import gym\n",
    "from gym import spaces\n",
    "from gym.spaces import Box, Discrete\n",
    "from collections import deque\n",
    "import itertools\n",
    "from scipy.special import softmax\n",
    "from sklearn.preprocessing import StandardScaler\n",
    "import warnings\n",
    "import os\n",
    "import pickle\n",
    "warnings.filterwarnings(\"ignore\")\n",
    "\n",
    "# create random number generator\n",
    "rng = np.random.default_rng()"
   ]
  },
  {
   "cell_type": "code",
   "execution_count": 2,
   "metadata": {},
   "outputs": [],
   "source": [
    "def get_data(name):\n",
    "  # returns a T x 3 list of stock prices\n",
    "  # each row is a different stock\n",
    "  # 0 = AAPL\n",
    "  # 1 = MSI\n",
    "  # 2 = SBUX\n",
    "  df = pd.read_csv(name)\n",
    "  return df.values    # get a numpy array\n",
    "                      # each row corresponds to the same day, from Feb 2013 - Feb 2018"
   ]
  },
  {
   "cell_type": "markdown",
   "metadata": {},
   "source": [
    "# 1st Split"
   ]
  },
  {
   "cell_type": "code",
   "execution_count": 3,
   "metadata": {},
   "outputs": [
    {
     "data": {
      "text/plain": [
       "array([[ 67.8542  ,  60.3     ,  28.185   ],\n",
       "       [ 68.5614  ,  60.9     ,  28.07    ],\n",
       "       [ 66.8428  ,  60.83    ,  28.13    ],\n",
       "       ...,\n",
       "       [185.160004, 107.309998,  57.450001],\n",
       "       [186.050004, 107.839996,  57.669998],\n",
       "       [187.36    , 105.779999,  57.040001]])"
      ]
     },
     "execution_count": 3,
     "metadata": {},
     "output_type": "execute_result"
    }
   ],
   "source": [
    "train_1st = get_data(\"UltimateStocks.csv\")[:-440]\n",
    "train_1st"
   ]
  },
  {
   "cell_type": "code",
   "execution_count": 4,
   "metadata": {},
   "outputs": [
    {
     "data": {
      "text/plain": [
       "array([[190.039992, 108.75    ,  57.650002],\n",
       "       [188.589996, 108.370003,  57.27    ],\n",
       "       [188.149992, 107.379997,  57.130001],\n",
       "       ...,\n",
       "       [321.450012, 176.690002,  87.559998],\n",
       "       [325.209992, 178.929993,  86.150002],\n",
       "       [320.03    , 179.460007,  86.419998]])"
      ]
     },
     "execution_count": 4,
     "metadata": {},
     "output_type": "execute_result"
    }
   ],
   "source": [
    "test_1st = get_data(\"UltimateStocks.csv\")[-440:]\n",
    "test_1st"
   ]
  },
  {
   "cell_type": "markdown",
   "metadata": {},
   "source": [
    "# 2nd split"
   ]
  },
  {
   "cell_type": "code",
   "execution_count": 5,
   "metadata": {},
   "outputs": [
    {
     "data": {
      "text/plain": [
       "array([[ 67.8542  ,  60.3     ,  28.185   ],\n",
       "       [ 68.5614  ,  60.9     ,  28.07    ],\n",
       "       [ 66.8428  ,  60.83    ,  28.13    ],\n",
       "       ...,\n",
       "       [321.450012, 176.690002,  87.559998],\n",
       "       [325.209992, 178.929993,  86.150002],\n",
       "       [320.03    , 179.460007,  86.419998]])"
      ]
     },
     "execution_count": 5,
     "metadata": {},
     "output_type": "execute_result"
    }
   ],
   "source": [
    "train_2nd = get_data(\"train_2nd.csv\")\n",
    "train_2nd"
   ]
  },
  {
   "cell_type": "code",
   "execution_count": 6,
   "metadata": {},
   "outputs": [
    {
     "data": {
      "text/plain": [
       "array([[108.      ,  74.28    ,  55.62    ],\n",
       "       [107.93    ,  75.52    ,  55.47    ],\n",
       "       [108.18    ,  74.54    ,  55.47    ],\n",
       "       ...,\n",
       "       [185.160004, 107.309998,  57.450001],\n",
       "       [186.050004, 107.839996,  57.669998],\n",
       "       [187.36    , 105.779999,  57.040001]])"
      ]
     },
     "execution_count": 6,
     "metadata": {},
     "output_type": "execute_result"
    }
   ],
   "source": [
    "test_2nd = get_data(\"test_2nd.csv\")\n",
    "test_2nd"
   ]
  },
  {
   "cell_type": "markdown",
   "metadata": {},
   "source": [
    "# 3rd split"
   ]
  },
  {
   "cell_type": "code",
   "execution_count": 7,
   "metadata": {},
   "outputs": [
    {
     "data": {
      "text/plain": [
       "array([[ 67.8542  ,  60.3     ,  28.185   ],\n",
       "       [ 68.5614  ,  60.9     ,  28.07    ],\n",
       "       [ 66.8428  ,  60.83    ,  28.13    ],\n",
       "       ...,\n",
       "       [321.450012, 176.690002,  87.559998],\n",
       "       [325.209992, 178.929993,  86.150002],\n",
       "       [320.03    , 179.460007,  86.419998]])"
      ]
     },
     "execution_count": 7,
     "metadata": {},
     "output_type": "execute_result"
    }
   ],
   "source": [
    "train_3rd = get_data(\"train_3rd.csv\")\n",
    "train_3rd"
   ]
  },
  {
   "cell_type": "code",
   "execution_count": 8,
   "metadata": {},
   "outputs": [
    {
     "data": {
      "text/plain": [
       "array([[108.83 ,  63.94 ,  38.825],\n",
       "       [109.7  ,  63.55 ,  38.865],\n",
       "       [111.25 ,  63.7  ,  38.925],\n",
       "       ...,\n",
       "       [107.48 ,  73.5  ,  55.9  ],\n",
       "       [108.37 ,  73.93 ,  55.36 ],\n",
       "       [108.81 ,  74.28 ,  55.2  ]])"
      ]
     },
     "execution_count": 8,
     "metadata": {},
     "output_type": "execute_result"
    }
   ],
   "source": [
    "test_3rd = get_data(\"test_3rd.csv\")\n",
    "test_3rd"
   ]
  },
  {
   "cell_type": "markdown",
   "metadata": {},
   "source": [
    "# 4th split"
   ]
  },
  {
   "cell_type": "code",
   "execution_count": 9,
   "metadata": {},
   "outputs": [
    {
     "data": {
      "text/plain": [
       "array([[108.7     ,  63.42    ,  38.725   ],\n",
       "       [109.01    ,  64.14    ,  38.895   ],\n",
       "       [108.83    ,  63.94    ,  38.825   ],\n",
       "       ...,\n",
       "       [321.450012, 176.690002,  87.559998],\n",
       "       [325.209992, 178.929993,  86.150002],\n",
       "       [320.03    , 179.460007,  86.419998]])"
      ]
     },
     "execution_count": 9,
     "metadata": {},
     "output_type": "execute_result"
    }
   ],
   "source": [
    "train_4th = get_data(\"train_4th.csv\")\n",
    "train_4th"
   ]
  },
  {
   "cell_type": "code",
   "execution_count": 10,
   "metadata": {},
   "outputs": [
    {
     "data": {
      "text/plain": [
       "array([[ 67.8542,  60.3   ,  28.185 ],\n",
       "       [ 68.5614,  60.9   ,  28.07  ],\n",
       "       [ 66.8428,  60.83  ,  28.13  ],\n",
       "       ...,\n",
       "       [109.4   ,  64.68  ,  38.05  ],\n",
       "       [108.6   ,  66.76  ,  38.355 ],\n",
       "       [108.86  ,  64.46  ,  38.33  ]])"
      ]
     },
     "execution_count": 10,
     "metadata": {},
     "output_type": "execute_result"
    }
   ],
   "source": [
    "test_4th = get_data(\"test_4th.csv\")\n",
    "test_4th"
   ]
  },
  {
   "cell_type": "code",
   "execution_count": null,
   "metadata": {},
   "outputs": [],
   "source": []
  },
  {
   "cell_type": "code",
   "execution_count": 11,
   "metadata": {},
   "outputs": [],
   "source": [
    "def get_scaler(env):\n",
    "  # return scikit-learn scaler object to scale the states\n",
    "  # Note: you could also populate the replay buffer here\n",
    "  # To get parameter for the scaler, we must have some data\n",
    "  # --> play an episode randomly and store each of the states we encounter. No need for an agent\n",
    "  # For more accurate, run multiple episodes\n",
    "\n",
    "  states = []\n",
    "  for _ in range(env.n_step):\n",
    "    action = env.action_space.sample()\n",
    "    state, reward, terminated, truncated, info = env.step(action)\n",
    "    states.append(state)\n",
    "    if terminated:\n",
    "      break\n",
    "\n",
    "  scaler = StandardScaler()\n",
    "  scaler.fit(states)\n",
    "  return scaler\n"
   ]
  },
  {
   "cell_type": "code",
   "execution_count": 12,
   "metadata": {},
   "outputs": [],
   "source": [
    "class MultiStockEnv(gym.Env):\n",
    "\n",
    "  def __init__(self, data, initial_investment=20000):             # data = return of get_data()\n",
    "    # data                                                        # get_data() returns a numpy array\n",
    "    self.stock_price_history = data\n",
    "    self.n_step, self.n_stock = self.stock_price_history.shape    # (# day, 3)\n",
    "\n",
    "    # instance attributes\n",
    "    self.initial_investment = initial_investment\n",
    "    self.cur_step = None\n",
    "    self.stock_owned = None\n",
    "    self.stock_price_last2 = None\n",
    "    self.stock_price_yesterday = None\n",
    "    self.stock_price = None\n",
    "    self.cash_in_hand = None\n",
    "\n",
    "    self.action_space = Discrete(343)\n",
    "    self.action_list = list(map(list, itertools.product([-1, -2/3, -1/3, 0, 1/3, 2/3, 1], repeat=self.n_stock)))\n",
    "                                               # -1 = sell all stocks\n",
    "                                               # 0 = hold\n",
    "                                               # 1 = buy with all of our money\n",
    "\n",
    "    # calculate size of state\n",
    "    self.state_dim = self.n_stock * 4 + 1      # If we have N stocks, the state contains 4N+1 dimensions\n",
    "\n",
    "    self.reset()\n",
    "\n",
    "\n",
    "  def reset(self):\n",
    "    self.cur_step = 2                                                         # 3rd day of stock prices\n",
    "    self.stock_owned = np.zeros(self.n_stock)\n",
    "    self.stock_price_last2 = self.stock_price_history[self.cur_step - 2]      # Stock price of each stock on the last two day\n",
    "    self.stock_price_yesterday = self.stock_price_history[self.cur_step - 1]  # Stock price of each stock yesterday\n",
    "    self.stock_price = self.stock_price_history[self.cur_step]                # Stock price of each stock on the current day\n",
    "    self.cash_in_hand = self.initial_investment                 # Not yet buy any stock, only initial investment\n",
    "    return self._get_obs()                                      # Return the first state vector, done by get_obs()\n",
    "                                                    # [0, 0, 0, 67.8542, 60.3, 28.185, \n",
    "                                                    #           68.5614, 60.9, 28.07, \n",
    "                                                    #           66.8428, 60.83, 28.13, 20000])\n",
    "\n",
    "\n",
    "\n",
    "  def step(self, action):\n",
    "    # assert action in self.action_space\n",
    "\n",
    "    # get current value before performing the action\n",
    "    prev_val = self._get_val()\n",
    "\n",
    "    # update price, i.e. go to the next day\n",
    "    self.cur_step += 1\n",
    "\n",
    "    self.stock_price = self.stock_price_history[self.cur_step]    # day -> next day, price -> price for next day\n",
    "                                                                  # self.stock_price_history = data = train_data -- a numpy array\n",
    "    self.stock_price_last2 = self.stock_price_history[self.cur_step - 2]      # Stock price on the last two day\n",
    "    self.stock_price_yesterday = self.stock_price_history[self.cur_step - 1]  # Stock price yesterday\n",
    "    # perform the trade\n",
    "    self._trade(action)\n",
    "\n",
    "    # get the new value after taking the action\n",
    "    cur_val = self._get_val()\n",
    "\n",
    "    # reward is the increase in porfolio value\n",
    "    reward = cur_val - prev_val \n",
    "    # done if we have run out of data\n",
    "    terminated = self.cur_step == self.n_step - 1             # True when we reach the end of the series\n",
    "                                                        # Realistically, stock markets never end, there is no termination\n",
    "                                                        # In here, our code ends when there is no more data\n",
    "    # store the current value of the portfolio here\n",
    "    info = {'cur_val': cur_val}\n",
    "\n",
    "\n",
    "    # conform to the Gym API\n",
    "    return self._get_obs(), reward, terminated, False, info\n",
    "\n",
    "\n",
    "\n",
    "  def _get_obs(self):\n",
    "    obs = np.empty(self.state_dim)\n",
    "    obs[:self.n_stock] = self.stock_owned                              # List of 3, stock owned\n",
    "\n",
    "    obs[self.n_stock:2*self.n_stock] = self.stock_price_last2          # List of 3, stock price\n",
    "    obs[2*self.n_stock:3*self.n_stock] = self.stock_price_yesterday    # List of 3, stock price\n",
    "    obs[3*self.n_stock:4*self.n_stock] = self.stock_price\n",
    "    obs[-1] = self.cash_in_hand                                        # Cash in hands for last index\n",
    "    return obs\n",
    "    \n",
    "\n",
    "\n",
    "  def _get_val(self):\n",
    "    return self.stock_owned.dot(self.stock_price) + self.cash_in_hand    # Total money\n",
    "\n",
    "\n",
    "\n",
    "  def _trade(self, action):\n",
    "    action_vec = self.action_list[action]     # returns a list of size 3\n",
    "\n",
    "    # determine which stocks to buy or sell, we need this so that we can always buy before selling\n",
    "    sell_info = [] # stores index and portion of stocks we want to sell\n",
    "    buy_info = []  # stores index and portion of stocks we want to buy\n",
    "        \n",
    "    for i, a in enumerate(action_vec):   \n",
    "      if a < 0:\n",
    "        sell_info.append([i,a])      # gonna sell\n",
    "        \n",
    "      elif a > 0:\n",
    "        buy_info.append([i,a])       # gonna buy\n",
    "    # print('buy_info', buy_info)\n",
    "    # print('sell_info', sell_info)\n",
    "    \n",
    "\n",
    "    # Buy before sell so that the money got from selling is only available in the next time-step\n",
    "    if buy_info:\n",
    "      new_action = []           # to store the actions only, which do not necessarily sum to 1 \n",
    "      for (i,a) in buy_info: \n",
    "        new_action.append(a)\n",
    "      \n",
    "      if np.sum(new_action) > 1:        # Only softmax when their sum > 1\n",
    "        new_buy = softmax(new_action)   # softmax so they sum to 1\n",
    "      else:\n",
    "        new_buy = new_action            # Keep the old action\n",
    "\n",
    "      for i in range(len(buy_info)):\n",
    "        buy_info[i][1] = new_buy[i]     # overwriting buy_info with our new softmaxed actions, or not\n",
    "      # print(buy_info)\n",
    "    \n",
    "\n",
    "      total_cash_spent = 0                             # Need this so that we only subtract when we finish buying all stocks, to prevent overwriting self.cash_in_hand\n",
    "      for (i,a) in buy_info:                           # If we buy, we buy using a% of our cash_in_hand\n",
    "        cash_to_spend = self.cash_in_hand*a           \n",
    "        if cash_to_spend > self.stock_price[i]:          # Check if we can afford at least 1 stock\n",
    "          stock_bought = cash_to_spend // self.stock_price[i]\n",
    "          self.stock_owned[i] += stock_bought\n",
    "          cash_spent = stock_bought * self.stock_price[i]\n",
    "          total_cash_spent += cash_spent\n",
    "      total_cash_spent += total_cash_spent*0.0001   # 0.01% trade fee\n",
    "      self.cash_in_hand -= total_cash_spent\n",
    "\n",
    "\n",
    "    # Sell after buy\n",
    "    if sell_info:                                   # [] - empty list also treated as None\n",
    "      for (i,a) in sell_info:                       # If we sell, we sell a% of our stock_owned \n",
    "        stock_sold = -int(self.stock_owned[i]*a)    # minus because a is negative\n",
    "        # print(stock_sold)\n",
    "        self.stock_owned[i] -= stock_sold\n",
    "        cash_increase = self.stock_price[i] * stock_sold\n",
    "        self.cash_in_hand += cash_increase - cash_increase*0.0001  # 0.01% trade fee\n",
    "     "
   ]
  },
  {
   "cell_type": "code",
   "execution_count": null,
   "metadata": {},
   "outputs": [],
   "source": []
  },
  {
   "cell_type": "markdown",
   "metadata": {},
   "source": [
    "___"
   ]
  },
  {
   "cell_type": "markdown",
   "metadata": {},
   "source": [
    "# 1st Split"
   ]
  },
  {
   "cell_type": "code",
   "execution_count": 29,
   "metadata": {},
   "outputs": [
    {
     "name": "stdout",
     "output_type": "stream",
     "text": [
      "7825.475938796624\n"
     ]
    },
    {
     "data": {
      "image/png": "[encoded data removed]",
      "text/plain": [
       "<Figure size 432x288 with 1 Axes>"
      ]
     },
     "metadata": {
      "needs_background": "light"
     },
     "output_type": "display_data"
    }
   ],
   "source": [
    "# Histogram to observe overall performance of 100 random agents\n",
    "\n",
    "data = test_1st\n",
    "\n",
    "env = MultiStockEnv(data)\n",
    "total_rewards = []\n",
    "for i in range(100):\n",
    "    # visualise one episode\n",
    "    state = env.reset()\n",
    "\n",
    "    terminated = False\n",
    "    truncated = False\n",
    "    steps = 0\n",
    "    total_reward = 0\n",
    "    while not (terminated or truncated):\n",
    "        # take action based on policy    \n",
    "        action = env.action_space.sample()\n",
    "        \n",
    "        # environment receives the action and returns:\n",
    "        # next observation, reward, terminated, truncated, and additional information (if applicable)\n",
    "        state, reward, terminated, truncated, info = env.step(action)\n",
    "        total_reward += reward\n",
    "        steps += 1\n",
    "    total_rewards.append(total_reward)\n",
    "plt.hist(total_rewards, bins=20)\n",
    "plt.title(\"Random Agent Performance\")\n",
    "\n",
    "print(np.mean(total_rewards))\n",
    "\n",
    "    # val = info['cur_val']\n",
    "    # print(f'Reward: {total_reward}, info: {val}')\n"
   ]
  },
  {
   "cell_type": "code",
   "execution_count": 22,
   "metadata": {},
   "outputs": [
    {
     "data": {
      "text/plain": [
       "5092.25348019231"
      ]
     },
     "execution_count": 22,
     "metadata": {},
     "output_type": "execute_result"
    }
   ],
   "source": [
    "# Test 1 randomly agent to plot\n",
    "data = test_1st\n",
    "\n",
    "env = MultiStockEnv(data)\n",
    "total_rewards = []\n",
    "\n",
    "# visualise one episode\n",
    "state = env.reset()\n",
    "\n",
    "terminated = False\n",
    "truncated = False\n",
    "steps = 0\n",
    "total_reward = 0\n",
    "portfolio = []\n",
    "while not (terminated or truncated):\n",
    "    # take action based on policy    \n",
    "    action = env.action_space.sample()\n",
    "    \n",
    "    # environment receives the action and returns:\n",
    "    # next observation, reward, terminated, truncated, and additional information (if applicable)\n",
    "    state, reward, terminated, truncated, info = env.step(action)\n",
    "    total_reward += reward\n",
    "    steps += 1\n",
    "    asset = info['cur_val']\n",
    "    portfolio.append(asset)\n",
    "total_reward\n"
   ]
  },
  {
   "cell_type": "code",
   "execution_count": 24,
   "metadata": {},
   "outputs": [],
   "source": [
    "a = np.array(portfolio)\n",
    "np.save('npy/Random_Test1.npy', a)"
   ]
  },
  {
   "cell_type": "code",
   "execution_count": null,
   "metadata": {},
   "outputs": [],
   "source": []
  },
  {
   "cell_type": "markdown",
   "metadata": {},
   "source": [
    "___"
   ]
  },
  {
   "cell_type": "markdown",
   "metadata": {},
   "source": [
    "# 2nd Split"
   ]
  },
  {
   "cell_type": "code",
   "execution_count": 30,
   "metadata": {},
   "outputs": [
    {
     "name": "stdout",
     "output_type": "stream",
     "text": [
      "4359.408665611765\n"
     ]
    },
    {
     "data": {
      "image/png": "[encoded data removed]",
      "text/plain": [
       "<Figure size 432x288 with 1 Axes>"
      ]
     },
     "metadata": {
      "needs_background": "light"
     },
     "output_type": "display_data"
    }
   ],
   "source": [
    "# Histogram to observe overall performance of 100 random agents\n",
    "\n",
    "\n",
    "data = test_2nd\n",
    "\n",
    "env = MultiStockEnv(data)\n",
    "total_rewards = []\n",
    "for i in range(100):\n",
    "    # visualise one episode\n",
    "    state = env.reset()\n",
    "\n",
    "    terminated = False\n",
    "    truncated = False\n",
    "    steps = 0\n",
    "    total_reward = 0\n",
    "    while not (terminated or truncated):\n",
    "        # take action based on policy    \n",
    "        action = env.action_space.sample()\n",
    "        \n",
    "        # environment receives the action and returns:\n",
    "        # next observation, reward, terminated, truncated, and additional information (if applicable)\n",
    "        state, reward, terminated, truncated, info = env.step(action)\n",
    "        total_reward += reward\n",
    "        steps += 1\n",
    "    total_rewards.append(total_reward)\n",
    "plt.hist(total_rewards, bins=20)\n",
    "\n",
    "print(np.mean(total_rewards))\n"
   ]
  },
  {
   "cell_type": "code",
   "execution_count": 31,
   "metadata": {},
   "outputs": [
    {
     "data": {
      "text/plain": [
       "2284.8481217519075"
      ]
     },
     "execution_count": 31,
     "metadata": {},
     "output_type": "execute_result"
    }
   ],
   "source": [
    "data = test_2nd\n",
    "\n",
    "env = MultiStockEnv(data)\n",
    "total_rewards = []\n",
    "\n",
    "# visualise one episode\n",
    "state = env.reset()\n",
    "\n",
    "terminated = False\n",
    "truncated = False\n",
    "steps = 0\n",
    "total_reward = 0\n",
    "portfolio = []\n",
    "while not (terminated or truncated):\n",
    "    # take action based on policy    \n",
    "    action = env.action_space.sample()\n",
    "    \n",
    "    # environment receives the action and returns:\n",
    "    # next observation, reward, terminated, truncated, and additional information (if applicable)\n",
    "    state, reward, terminated, truncated, info = env.step(action)\n",
    "    total_reward += reward\n",
    "    steps += 1\n",
    "    asset = info['cur_val']\n",
    "    portfolio.append(asset)\n",
    "total_reward\n"
   ]
  },
  {
   "cell_type": "code",
   "execution_count": 32,
   "metadata": {},
   "outputs": [],
   "source": [
    "a = np.array(portfolio)\n",
    "np.save('npy/Random_Test2.npy', a)"
   ]
  },
  {
   "cell_type": "markdown",
   "metadata": {},
   "source": []
  },
  {
   "cell_type": "markdown",
   "metadata": {},
   "source": [
    "___"
   ]
  },
  {
   "cell_type": "markdown",
   "metadata": {},
   "source": [
    "# 3rd Split"
   ]
  },
  {
   "cell_type": "code",
   "execution_count": 31,
   "metadata": {},
   "outputs": [
    {
     "name": "stdout",
     "output_type": "stream",
     "text": [
      "2004.361168480003\n"
     ]
    },
    {
     "data": {
      "image/png": "[encoded data removed]",
      "text/plain": [
       "<Figure size 432x288 with 1 Axes>"
      ]
     },
     "metadata": {
      "needs_background": "light"
     },
     "output_type": "display_data"
    }
   ],
   "source": [
    "# Histogram to observe overall performance of 100 random agents\n",
    "\n",
    "\n",
    "data = test_3rd\n",
    "\n",
    "env = MultiStockEnv(data)\n",
    "total_rewards = []\n",
    "for i in range(100):\n",
    "    # visualise one episode\n",
    "    state = env.reset()\n",
    "\n",
    "    terminated = False\n",
    "    truncated = False\n",
    "    steps = 0\n",
    "    total_reward = 0\n",
    "    while not (terminated or truncated):\n",
    "        # take action based on policy    \n",
    "        action = env.action_space.sample()\n",
    "        \n",
    "        # environment receives the action and returns:\n",
    "        # next observation, reward, terminated, truncated, and additional information (if applicable)\n",
    "        state, reward, terminated, truncated, info = env.step(action)\n",
    "        total_reward += reward\n",
    "        steps += 1\n",
    "    total_rewards.append(total_reward)\n",
    "plt.hist(total_rewards, bins=20)\n",
    "plt.title(\"Random Agent Performance\")\n",
    "\n",
    "print(np.mean(total_rewards))\n"
   ]
  },
  {
   "cell_type": "code",
   "execution_count": 33,
   "metadata": {},
   "outputs": [
    {
     "data": {
      "text/plain": [
       "-348.9258297500164"
      ]
     },
     "execution_count": 33,
     "metadata": {},
     "output_type": "execute_result"
    }
   ],
   "source": [
    "# Test 1 random agent to plot\n",
    "\n",
    "data = test_3rd\n",
    "\n",
    "env = MultiStockEnv(data)\n",
    "total_rewards = []\n",
    "\n",
    "# visualise one episode\n",
    "state = env.reset()\n",
    "\n",
    "terminated = False\n",
    "truncated = False\n",
    "steps = 0\n",
    "total_reward = 0\n",
    "portfolio = []\n",
    "while not (terminated or truncated):\n",
    "    # take action based on policy    \n",
    "    action = env.action_space.sample()\n",
    "    \n",
    "    # environment receives the action and returns:\n",
    "    # next observation, reward, terminated, truncated, and additional information (if applicable)\n",
    "    state, reward, terminated, truncated, info = env.step(action)\n",
    "    total_reward += reward\n",
    "    steps += 1\n",
    "    asset = info['cur_val']\n",
    "    portfolio.append(asset)\n",
    "total_reward\n"
   ]
  },
  {
   "cell_type": "code",
   "execution_count": 34,
   "metadata": {},
   "outputs": [],
   "source": [
    "a = np.array(portfolio)\n",
    "np.save('npy/Random_Test3.npy', a)"
   ]
  },
  {
   "cell_type": "markdown",
   "metadata": {},
   "source": [
    "___"
   ]
  },
  {
   "cell_type": "markdown",
   "metadata": {},
   "source": [
    "# 4th Split"
   ]
  },
  {
   "cell_type": "code",
   "execution_count": 47,
   "metadata": {},
   "outputs": [
    {
     "name": "stdout",
     "output_type": "stream",
     "text": [
      "3976.7483757030986\n"
     ]
    },
    {
     "data": {
      "image/png": "[encoded data removed]",
      "text/plain": [
       "<Figure size 432x288 with 1 Axes>"
      ]
     },
     "metadata": {
      "needs_background": "light"
     },
     "output_type": "display_data"
    }
   ],
   "source": [
    "# Histogram to observe overall performance of 100 random agents\n",
    "\n",
    "data = test_4th\n",
    "\n",
    "env = MultiStockEnv(data)\n",
    "total_rewards = []\n",
    "for i in range(100):\n",
    "    # visualise one episode\n",
    "    state = env.reset()\n",
    "\n",
    "    terminated = False\n",
    "    truncated = False\n",
    "    steps = 0\n",
    "    total_reward = 0\n",
    "    while not (terminated or truncated):\n",
    "        # take action based on policy    \n",
    "        action = env.action_space.sample()\n",
    "        \n",
    "        # environment receives the action and returns:\n",
    "        # next observation, reward, terminated, truncated, and additional information (if applicable)\n",
    "        state, reward, terminated, truncated, info = env.step(action)\n",
    "        total_reward += reward\n",
    "        steps += 1\n",
    "    total_rewards.append(total_reward)\n",
    "plt.hist(total_rewards, bins=20)\n",
    "\n",
    "\n",
    "print(np.mean(total_rewards))"
   ]
  },
  {
   "cell_type": "code",
   "execution_count": 35,
   "metadata": {},
   "outputs": [
    {
     "data": {
      "text/plain": [
       "4007.5142840300105"
      ]
     },
     "execution_count": 35,
     "metadata": {},
     "output_type": "execute_result"
    }
   ],
   "source": [
    "# Test 1 random agent to plot\n",
    "\n",
    "\n",
    "data = test_4th\n",
    "\n",
    "env = MultiStockEnv(data)\n",
    "total_rewards = []\n",
    "\n",
    "# visualise one episode\n",
    "state = env.reset()\n",
    "\n",
    "terminated = False\n",
    "truncated = False\n",
    "steps = 0\n",
    "total_reward = 0\n",
    "portfolio = []\n",
    "while not (terminated or truncated):\n",
    "    # take action based on policy    \n",
    "    action = env.action_space.sample()\n",
    "    \n",
    "    # environment receives the action and returns:\n",
    "    # next observation, reward, terminated, truncated, and additional information (if applicable)\n",
    "    state, reward, terminated, truncated, info = env.step(action)\n",
    "    total_reward += reward\n",
    "    steps += 1\n",
    "    asset = info['cur_val']\n",
    "    portfolio.append(asset)\n",
    "total_reward\n"
   ]
  },
  {
   "cell_type": "code",
   "execution_count": 36,
   "metadata": {},
   "outputs": [],
   "source": [
    "a = np.array(portfolio)\n",
    "np.save('npy/Random_Test4.npy', a)"
   ]
  },
  {
   "cell_type": "code",
   "execution_count": null,
   "metadata": {},
   "outputs": [],
   "source": []
  },
  {
   "cell_type": "code",
   "execution_count": null,
   "metadata": {},
   "outputs": [],
   "source": []
  },
  {
   "cell_type": "code",
   "execution_count": null,
   "metadata": {},
   "outputs": [],
   "source": []
  }
 ],
 "metadata": {
  "kernelspec": {
   "display_name": "Python 3.10.5 ('rl')",
   "language": "python",
   "name": "python3"
  },
  "language_info": {
   "codemirror_mode": {
    "name": "ipython",
    "version": 3
   },
   "file_extension": ".py",
   "mimetype": "text/x-python",
   "name": "python",
   "nbconvert_exporter": "python",
   "pygments_lexer": "ipython3",
   "version": "3.10.5"
  },
  "orig_nbformat": 4,
  "vscode": {
   "interpreter": {
    "hash": "317be68a268fe63ad1beef9ed2e8071406c5ed3a5a04586782a42fc5b3ff2007"
   }
  }
 },
 "nbformat": 4,
 "nbformat_minor": 2
}
